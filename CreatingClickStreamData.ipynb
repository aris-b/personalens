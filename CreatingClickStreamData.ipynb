{
 "cells": [
  {
   "cell_type": "markdown",
   "metadata": {},
   "source": [
    "# Creating Clickstream Data\n",
    "\n",
    "Recommendations can be made more context aware and accurate by including user behavior like clicks. This notebook assumes you have fully deployed the Personalens project both as an application and the Personalize service in your AWS account.\n",
    "\n",
    "## Getting Started\n",
    "\n",
    "Before running the rest of this notebook fill out the variables below:"
   ]
  },
  {
   "cell_type": "code",
   "execution_count": 9,
   "metadata": {},
   "outputs": [],
   "source": [
    "# Obtain these from the DB Notebook\n",
    "campaignArn = \"arn:aws:personalize:us-east-1:059124553121:campaign/Django-campaign\"\n"
   ]
  },
  {
   "cell_type": "code",
   "execution_count": 5,
   "metadata": {},
   "outputs": [
    {
     "name": "stdout",
     "output_type": "stream",
     "text": [
      "--2019-02-06 17:10:22--  https://s3-us-west-2.amazonaws.com/personalize-cli-json-models/personalize.json\n",
      "Resolving s3-us-west-2.amazonaws.com (s3-us-west-2.amazonaws.com)... 52.218.216.192\n",
      "Connecting to s3-us-west-2.amazonaws.com (s3-us-west-2.amazonaws.com)|52.218.216.192|:443... connected.\n",
      "HTTP request sent, awaiting response... 304 Not Modified\n",
      "File ‘personalize.json’ not modified on server. Omitting download.\n",
      "\n",
      "--2019-02-06 17:10:22--  https://s3-us-west-2.amazonaws.com/personalize-cli-json-models/personalize-runtime.json\n",
      "Resolving s3-us-west-2.amazonaws.com (s3-us-west-2.amazonaws.com)... 52.218.216.192\n",
      "Connecting to s3-us-west-2.amazonaws.com (s3-us-west-2.amazonaws.com)|52.218.216.192|:443... connected.\n",
      "HTTP request sent, awaiting response... 304 Not Modified\n",
      "File ‘personalize-runtime.json’ not modified on server. Omitting download.\n",
      "\n"
     ]
    }
   ],
   "source": [
    "# Imports\n",
    "import boto3\n",
    "\n",
    "import json\n",
    "import numpy as np\n",
    "import pandas as pd\n",
    "import time\n",
    "\n",
    "!wget -N https://s3-us-west-2.amazonaws.com/personalize-cli-json-models/personalize.json\n",
    "!wget -N https://s3-us-west-2.amazonaws.com/personalize-cli-json-models/personalize-runtime.json\n",
    "!aws configure add-model --service-model file://`pwd`/personalize.json --service-name personalize\n",
    "!aws configure add-model --service-model file://`pwd`/personalize-runtime.json --service-name personalize-runtime\n",
    "\n",
    "personalize = boto3.client(service_name='personalize', endpoint_url='https://personalize.us-east-1.amazonaws.com')\n",
    "personalize_runtime = boto3.client(service_name='personalize-runtime', endpoint_url='https://personalize-runtime.us-east-1.amazonaws.com')\n",
    "\n"
   ]
  },
  {
   "cell_type": "code",
   "execution_count": 6,
   "metadata": {},
   "outputs": [],
   "source": [
    "# Imports for Django and Pandas\n",
    "\n",
    "import json\n",
    "import datetime\n",
    "import django\n",
    "django.setup()\n",
    "\n",
    "from movielens.models import User\n",
    "from movielens.models import Item\n",
    "from movielens.models import UserData"
   ]
  },
  {
   "cell_type": "markdown",
   "metadata": {},
   "source": [
    "## Creating an IAM Role\n",
    "\n",
    "Follow the instructions here, then save the roleARN in the variable below.\n",
    "\n",
    "https://docs.aws.amazon.com/personalize/latest/dg/getting-started.html#gs-create-role-with-permissions"
   ]
  },
  {
   "cell_type": "code",
   "execution_count": 11,
   "metadata": {},
   "outputs": [],
   "source": [
    "roleArn = \"arn:aws:iam::059124553121:role/PersonalizeRole\""
   ]
  },
  {
   "cell_type": "markdown",
   "metadata": {},
   "source": [
    "## Create a Dataset group for the clickstream data"
   ]
  },
  {
   "cell_type": "code",
   "execution_count": 7,
   "metadata": {},
   "outputs": [
    {
     "name": "stdout",
     "output_type": "stream",
     "text": [
      "{'datasetGroupArn': 'arn:aws:personalize:us-east-1:059124553121:dataset-group/MovieClickGroup', 'ResponseMetadata': {'RequestId': '8f2dbdc6-47f3-4d0a-a8a5-81584c7287a9', 'HTTPStatusCode': 200, 'HTTPHeaders': {'content-type': 'application/x-amz-json-1.1', 'date': 'Wed, 06 Feb 2019 17:16:14 GMT', 'x-amzn-requestid': '8f2dbdc6-47f3-4d0a-a8a5-81584c7287a9', 'content-length': '94', 'connection': 'keep-alive'}, 'RetryAttempts': 0}}\n"
     ]
    }
   ],
   "source": [
    "personalize = boto3.client('personalize')\n",
    "response = personalize.create_dataset_group(name=\"MovieClickGroup\")\n",
    "print(response)"
   ]
  },
  {
   "cell_type": "markdown",
   "metadata": {},
   "source": [
    "## Getting a Tracking ID\n",
    "\n",
    "A tracking ID associates an event with a dataset group and authorizes you to send data to Amazon Personalize. You generate a tracking ID by calling the CreateEventTracker API. You supply the dataset group ARN and the ARN of the IAM role that you created in Create an IAM Role."
   ]
  },
  {
   "cell_type": "code",
   "execution_count": 12,
   "metadata": {},
   "outputs": [
    {
     "name": "stdout",
     "output_type": "stream",
     "text": [
      "arn:aws:personalize:us-east-1:059124553121:event-tracker/23a51644\n",
      "32693937-8dc7-4a8e-8215-8c27c3025167\n"
     ]
    }
   ],
   "source": [
    "# Obtain the dataset group ARN from the previous output:\n",
    "datasetGroupArn = \"arn:aws:personalize:us-east-1:059124553121:dataset-group/MovieClickGroup\"\n",
    "response = personalize.create_event_tracker(\n",
    "    name=\"MovieClickTracker\",\n",
    "    datasetGroupArn=datasetGroupArn,\n",
    "    roleArn=roleArn\n",
    ")\n",
    "print(response['eventTrackerArn'])\n",
    "print(response['trackingId'])"
   ]
  },
  {
   "cell_type": "code",
   "execution_count": null,
   "metadata": {},
   "outputs": [],
   "source": [
    "# Save the Tracker ID and ARN:\n",
    "eventTrackerArn = \"arn:aws:personalize:us-east-1:059124553121:event-tracker/23a51644\"\n",
    "trackingId = \"32693937-8dc7-4a8e-8215-8c27c3025167\""
   ]
  },
  {
   "cell_type": "markdown",
   "metadata": {},
   "source": [
    "## Define the Interaction Schema"
   ]
  },
  {
   "cell_type": "code",
   "execution_count": null,
   "metadata": {},
   "outputs": [],
   "source": [
    "schema = {\n",
    "    \"schema\": {\n",
    "        \"name\": \"click-stream-schema\",\n",
    "        \"schemaArn\": \"arn:aws:personalize:us-west-2:acct-id:schema/event-interactions-schema\",\n",
    "        \"schema\": {\n",
    "          \"type\": \"record\",\n",
    "          \"name\": \"Interactions\",\n",
    "          \"namespace\": \"com.amazonaws.concierge.schema\",\n",
    "          \"fields\": [\n",
    "            {\n",
    "              \"name\": \"user_id\",\n",
    "              \"type\": \"string\"\n",
    "            },\n",
    "            {\n",
    "              \"name\": \"session_id\",\n",
    "              \"type\": \"string\"\n",
    "            },\n",
    "            {\n",
    "              \"name\": \"timestamp\",\n",
    "              \"type\": \"long\"\n",
    "            }\n",
    "            {\n",
    "              \"name\": \"event_type\",\n",
    "              \"type\": \"string\"\n",
    "            },\n",
    "            {\n",
    "              \"name\": \"item_id\",\n",
    "              \"type\": \"string\"\n",
    "            },\n",
    "            {\n",
    "              \"name\": \"event_value\",\n",
    "              \"type\": \"string\"\n",
    "            },\n",
    "          ],\n",
    "          \"version\": \"1.0\"\n",
    "        }\"\n",
    "    }\n",
    "}"
   ]
  }
 ],
 "metadata": {
  "kernelspec": {
   "display_name": "Python 3",
   "language": "python",
   "name": "python3"
  },
  "language_info": {
   "codemirror_mode": {
    "name": "ipython",
    "version": 3
   },
   "file_extension": ".py",
   "mimetype": "text/x-python",
   "name": "python",
   "nbconvert_exporter": "python",
   "pygments_lexer": "ipython3",
   "version": "3.7.1"
  }
 },
 "nbformat": 4,
 "nbformat_minor": 2
}
